{
 "cells": [
  {
   "cell_type": "markdown",
   "id": "db94d462",
   "metadata": {},
   "source": [
    "### ORI Final Analysis\n",
    "### 04. Industry, Navigation, and Transportation\n",
    "\n",
    "#### 10/24/2024\n",
    "#### This script processes data and creates the natioanl security industry, navigation, and transportation submodel. "
   ]
  },
  {
   "cell_type": "code",
   "execution_count": 1,
   "id": "49c0e381",
   "metadata": {},
   "outputs": [],
   "source": [
    "#import system modules and set environment\n",
    "import arcpy\n",
    "import os\n",
    "import pandas as pd\n",
    "import numpy as np\n",
    "from arcpy import env\n",
    "from arcpy.sa import *\n",
    "arcpy.env.overwriteOutput = True\n",
    "arcpy.env.workspace = 'C:/Users/Eliza.Carter/Documents/Projects/California/ORI'"
   ]
  },
  {
   "cell_type": "code",
   "execution_count": 2,
   "id": "45ecda04",
   "metadata": {},
   "outputs": [],
   "source": [
    "#define spatial reference (EPSG for NAD 83 UTM Zone 11N)\n",
    "spatial_ref = arcpy.SpatialReference(26911)\n",
    "\n",
    "#create a copy of the ORI area hex grid\n",
    "#hex_grid = 'data/ORI_Area_of_Interest_grid.shp'\n",
    "hex_grid = 'data/input_data/constrained.shp'\n",
    "industry_submodel = 'data/input_data/industry_submodel'\n",
    "arcpy.management.CopyFeatures(hex_grid, industry_submodel)\n",
    "\n",
    "#create geopackage\n",
    "in_gpkg_path = 'data/input_data/ORI_Industry.gpkg'\n",
    "if not os.path.exists(in_gpkg_path):\n",
    "    arcpy.management.CreateSQLiteDatabase(in_gpkg_path, \"GEOPACKAGE\")"
   ]
  },
  {
   "cell_type": "code",
   "execution_count": 3,
   "id": "f443e8d8",
   "metadata": {},
   "outputs": [
    {
     "data": {
      "text/html": [
       "<div class='gpresult'><h2>Messages</h2><div id='messages' data-messages='[\"Start Time: Wednesday, November 6, 2024 12:05:11 PM\",\"Succeeded at Wednesday, November 6, 2024 12:05:11 PM (Elapsed Time: 0.02 seconds)\"]' data-show='true'><div id = 'default' /></div></div>"
      ],
      "text/plain": [
       "<Result 'industry_submodel_Layer2'>"
      ]
     },
     "execution_count": 3,
     "metadata": {},
     "output_type": "execute_result"
    }
   ],
   "source": [
    "# BOEM Active Lease Blocks (ori_in_01)\n",
    "\n",
    "#define file\n",
    "file_path = 'data/source_data/BOEM_Pacific_Leases.shp'\n",
    "\n",
    "#create feature layer for the file\n",
    "arcpy.management.MakeFeatureLayer(file_path, \"active_leases\")\n",
    "\n",
    "#select file where it itersects the grid\n",
    "arcpy.management.SelectLayerByLocation(\n",
    "    in_layer= \"active_leases\",\n",
    "    overlap_type=\"INTERSECT\",\n",
    "    select_features= industry_submodel,\n",
    "    search_distance=None,\n",
    "    selection_type=\"NEW_SELECTION\",\n",
    "    invert_spatial_relationship=\"NOT_INVERT\"\n",
    ")\n",
    "\n",
    "#project to defined spatial reference\n",
    "file_project = 'in_memory/file_projected'\n",
    "arcpy.management.Project(\"active_leases\", file_project, spatial_ref)                                            \n",
    "\n",
    "#save to geopackage\n",
    "output_name = 'Active_BOEM_Leases'\n",
    "arcpy.conversion.FeatureClassToFeatureClass(file_project, in_gpkg_path, output_name)\n",
    "\n",
    "#identify overlap between this layer and the hex grid; score overlapping cells using predetermined value\n",
    "file_selection = arcpy.management.SelectLayerByLocation(industry_submodel,\n",
    "                                                                     'INTERSECT',\n",
    "                                                                     file_project)\n",
    "arcpy.management.CalculateField(file_selection, 'ori_in_01', '0.5', field_type = \"DOUBLE\")\n",
    "\n",
    "file_selection = arcpy.management.SelectLayerByLocation(industry_submodel, \n",
    "                                                        'INTERSECT', \n",
    "                                                        file_project, \n",
    "                                                        invert_spatial_relationship=True)\n",
    "arcpy.management.CalculateField(file_selection, 'ori_in_01', '1', field_type=\"DOUBLE\")"
   ]
  },
  {
   "cell_type": "code",
   "execution_count": 4,
   "id": "e9ea1a3e",
   "metadata": {
    "scrolled": true
   },
   "outputs": [
    {
     "data": {
      "text/html": [
       "<div class='gpresult'><h2>Messages</h2><div id='messages' data-messages='[\"Start Time: Wednesday, November 6, 2024 12:05:35 PM\",\"Succeeded at Wednesday, November 6, 2024 12:05:35 PM (Elapsed Time: 0.03 seconds)\"]' data-show='true'><div id = 'default' /></div></div>"
      ],
      "text/plain": [
       "<Result 'true'>"
      ]
     },
     "execution_count": 4,
     "metadata": {},
     "output_type": "execute_result"
    }
   ],
   "source": [
    "# Combine and project all AIS transects that overlap the hex grid\n",
    "\n",
    "#paths\n",
    "gpkg_path = 'data/source_data/wc_ais_transect.gpkg'\n",
    "initial_selected_path = 'data/source_data/ori_ais_transects_temp.shp'\n",
    "final_projected_path = 'data/source_data/ori_ais_transects.shp'\n",
    "\n",
    "#list gpkg layers\n",
    "gpkg_description = arcpy.Describe(gpkg_path)\n",
    "layer_names = [layer.name for layer in gpkg_description.children]\n",
    "\n",
    "#select the first layer\n",
    "first_layer_path = f\"{gpkg_path}/{layer_names[0]}\"\n",
    "arcpy.management.MakeFeatureLayer(first_layer_path, \"first_ais_transects\")\n",
    "\n",
    "#select features in the first layer that intersect the hex grid\n",
    "arcpy.management.SelectLayerByLocation(\n",
    "    in_layer=\"first_ais_transects\",\n",
    "    overlap_type=\"INTERSECT\",\n",
    "    select_features=industry_submodel,\n",
    "    search_distance=None,\n",
    "    selection_type=\"NEW_SELECTION\"\n",
    ")\n",
    "\n",
    "#copy only intersecting features to start the combined AIS layer\n",
    "arcpy.management.CopyFeatures(\"first_ais_transects\", initial_selected_path)\n",
    "arcpy.management.Delete(\"first_ais_transects\")\n",
    "\n",
    "#loop through remaining layers and append only selected features\n",
    "for layer_name in layer_names[1:]:\n",
    "    layer_path = f\"{gpkg_path}/{layer_name}\"\n",
    "    \n",
    "    #create a feature layer\n",
    "    arcpy.management.MakeFeatureLayer(layer_path, \"ais_transects\")\n",
    "    \n",
    "    #select features that intersect the hex grid\n",
    "    arcpy.management.SelectLayerByLocation(\n",
    "        in_layer=\"ais_transects\",\n",
    "        overlap_type=\"INTERSECT\",\n",
    "        select_features=industry_submodel,\n",
    "        search_distance=None,\n",
    "        selection_type=\"NEW_SELECTION\"\n",
    "    )\n",
    "    \n",
    "    #append selected features\n",
    "    arcpy.management.Append(\"ais_transects\", initial_selected_path, \"NO_TEST\")\n",
    "    \n",
    "    #clean up\n",
    "    arcpy.management.Delete(\"ais_transects\")\n",
    "\n",
    "# project combined AIS transects\n",
    "arcpy.management.Project(initial_selected_path, final_projected_path, spatial_ref)\n",
    "\n",
    "#clean up\n",
    "arcpy.management.Delete(initial_selected_path)\n"
   ]
  },
  {
   "cell_type": "markdown",
   "id": "30ecb270",
   "metadata": {},
   "source": [
    "###  Run AIS Processing Script here"
   ]
  },
  {
   "cell_type": "code",
   "execution_count": 5,
   "id": "11fa96a3",
   "metadata": {},
   "outputs": [
    {
     "data": {
      "text/html": [
       "<div class='gpresult'><h2>Messages</h2><div id='messages' data-messages='[\"Start Time: Wednesday, November 6, 2024 12:05:52 PM\",\"Succeeded at Wednesday, November 6, 2024 12:05:52 PM (Elapsed Time: 0.23 seconds)\"]' data-show='true'><div id = 'default' /></div></div>"
      ],
      "text/plain": [
       "<Result 'C:/Users/Eliza.Carter/Documents/Projects/California/ORI\\\\data/input_data/industry_submodel'>"
      ]
     },
     "execution_count": 5,
     "metadata": {},
     "output_type": "execute_result"
    }
   ],
   "source": [
    "# Join AIS to constrained hex grid\n",
    "\n",
    "#define file\n",
    "file_path = 'data/input_data/ORI_Industry.gpkg'\n",
    "layer_name = 'main.ORI_AIS_Grid_Intersect'\n",
    "field_list = [\"Cargo\", \"Tug_Tow\", \"Fishing\", \"Passenger\", \"Pleasure\", \"Other\"]\n",
    "\n",
    "#join to industry submodel\n",
    "arcpy.management.JoinField(industry_submodel, \"GRID_ID\", f\"{file_path}/{layer_name}\", \"GRID_ID\", field_list)\n"
   ]
  },
  {
   "cell_type": "code",
   "execution_count": 6,
   "id": "8cc08dfc",
   "metadata": {},
   "outputs": [
    {
     "data": {
      "text/html": [
       "<div class='gpresult'><h2>Messages</h2><div id='messages' data-messages='[\"Start Time: Wednesday, November 6, 2024 12:05:59 PM\",\"Succeeded at Wednesday, November 6, 2024 12:05:59 PM (Elapsed Time: 0.07 seconds)\"]' data-show='true'><div id = 'default' /></div></div>"
      ],
      "text/plain": [
       "<Result 'C:/Users/Eliza.Carter/Documents/Projects/California/ORI\\\\data/input_data\\\\ORI_AIS.csv'>"
      ]
     },
     "execution_count": 6,
     "metadata": {},
     "output_type": "execute_result"
    }
   ],
   "source": [
    "# Export Industry submodel as a csv\n",
    "\n",
    "#create new row number field\n",
    "new_field_name = \"RowNum\"\n",
    "arcpy.AddField_management(industry_submodel, new_field_name, \"LONG\")\n",
    "\n",
    "#fill in field with row numbers\n",
    "with arcpy.da.UpdateCursor(industry_submodel, new_field_name) as cursor:\n",
    "    row_number = 1\n",
    "    for row in cursor:\n",
    "        row[0] = row_number\n",
    "        cursor.updateRow(row)\n",
    "        row_number += 1 \n",
    "\n",
    "#export the table\n",
    "ais_path = \"data/input_data/ORI_AIS.csv\"\n",
    "arcpy.conversion.TableToTable(industry_submodel, os.path.dirname(ais_path), os.path.basename(ais_path))"
   ]
  },
  {
   "cell_type": "code",
   "execution_count": 7,
   "id": "3c4da40c",
   "metadata": {},
   "outputs": [],
   "source": [
    "#Alter AIS fields with z-membership scores\n",
    "\n",
    "#perform z-membership on each field and save \n",
    "input_table = \"C:/Users/Eliza.Carter/Documents/Projects/California/ORI/data/input_data/ORI_AIS.csv\"\n",
    "output_table = \"C:/Users/Eliza.Carter/Documents/Projects/California/ORI/data/input_data/ORI_AIS_z.csv\"\n",
    "\n",
    "#User Needs to input list of field names to be rescaled\n",
    "z_columns = [\"Cargo\", \"Tug_Tow\", \"Fishing\", \"Passenger\", \"Pleasure\", \"Other\"]\n",
    "final_name = [\"ori_in_02\", \"ori_in_03\", \"ori_in_04\", \"ori_in_05\", \"ori_in_06\", \"ori_in_07\"]\n",
    "\n",
    "#Custom Z membership function rescales data between 0 and 1\n",
    "def cust_zmf(x, a, b):\n",
    "    assert a <= b, 'a <= b is required.'\n",
    "    na = np.empty(len(x))\n",
    "    na[:] = np.isnan(x)\n",
    "    na[na == 1] = np.nan\n",
    "    na[na == 0] = 1\n",
    "    zy = np.ones(len(x))\n",
    "    idx = np.logical_and(a <= x, x < (a + b) / 2.)\n",
    "    zy[idx] = (1 - 2 * ((x[idx] - a) / (b - a)) ** 2.)\n",
    "    idx = np.logical_and((a + b) / 2. <= x, x <= b)\n",
    "    zy[idx] = (2. * ((x[idx] - b) / (b - a)) ** 2.)\n",
    "    idx = x >= b\n",
    "    zy[idx] = 0\n",
    "    z = np.multiply(na, zy)\n",
    "    return z\n",
    "\n",
    "df = pd.read_csv(input_table)\n",
    "OID = df[\"RowNum\"]\n",
    "df_fin = pd.DataFrame(OID, columns=[\"RowNum\"])\n",
    "\n",
    "for fz in z_columns:\n",
    "    ff = df[fz]\n",
    "    ceiling = np.nanmin(ff)\n",
    "    foot = np.nanmax(ff) + np.nanmax(ff) / 10000 #This is performed to ensure no 0 values in output\n",
    "    f = cust_zmf(ff, ceiling, foot)\n",
    "    f_col = pd.DataFrame(f, columns=[fz])\n",
    "    df_fin = pd.concat([df_fin,f_col], axis=1)\n",
    "\n",
    "df_final_all = df_fin[z_columns]\n",
    "df_final_all.columns = final_name[:len(df_final_all.columns)] #rename columns\n",
    "df_final_all[\"joiner\"] = df[[\"RowNum\"]]\n",
    "df_final_all.to_csv(output_table, index=False)\n"
   ]
  },
  {
   "cell_type": "code",
   "execution_count": 17,
   "id": "98f5a735",
   "metadata": {},
   "outputs": [
    {
     "data": {
      "text/html": [
       "<div class='gpresult'><h2>Messages</h2><div id='messages' data-messages='[\"Start Time: Wednesday, November 6, 2024 12:26:52 PM\",\"Succeeded at Wednesday, November 6, 2024 12:26:52 PM (Elapsed Time: 0.10 seconds)\"]' data-show='true'><div id = 'default' /></div></div>"
      ],
      "text/plain": [
       "<Result 'C:/Users/Eliza.Carter/Documents/Projects/California/ORI\\\\data/input_data/industry_submodel.shp'>"
      ]
     },
     "execution_count": 17,
     "metadata": {},
     "output_type": "execute_result"
    }
   ],
   "source": [
    "# Join z-membership fields to the industry submodel\n",
    "csv_path = \"data/input_data/ORI_AIS_z.csv\"\n",
    "\n",
    "arcpy.management.JoinField(industry_submodel, \"RowNum\", csv_path, \"joiner\", fields=\"joiner;ori_in_02;ori_in_03;ori_in_04;ori_in_05;ori_in_06;ori_in_07\")\n"
   ]
  },
  {
   "cell_type": "code",
   "execution_count": 18,
   "id": "b17bec5f",
   "metadata": {},
   "outputs": [
    {
     "data": {
      "text/html": [
       "<div class='gpresult'><h2>Messages</h2><div id='messages' data-messages='[\"Start Time: Wednesday, November 6, 2024 12:26:54 PM\",\"Succeeded at Wednesday, November 6, 2024 12:26:54 PM (Elapsed Time: 0.05 seconds)\"]' data-show='true'><div id = 'default' /></div></div>"
      ],
      "text/plain": [
       "<Result 'C:/Users/Eliza.Carter/Documents/Projects/California/ORI\\\\data/input_data/industry_submodel.shp'>"
      ]
     },
     "execution_count": 18,
     "metadata": {},
     "output_type": "execute_result"
    }
   ],
   "source": [
    "# Industry Submodel\n",
    "\n",
    "#call shapefile\n",
    "industry_submodel = 'data/input_data/industry_submodel.shp'\n",
    "\n",
    "#create a new field for national security\n",
    "in_field = \"in_final\"\n",
    "\n",
    "existing_fields = [f.name for f in arcpy.ListFields(industry_submodel)]\n",
    "\n",
    "if in_field not in existing_fields:\n",
    "    arcpy.management.AddField(industry_submodel, in_field, 'DOUBLE')\n",
    "    \n",
    "#expression to get final constraints\n",
    "final_expression = '(!ori_in_01! * !ori_in_02! * !ori_in_03! * !ori_in_04! * !ori_in_05! * !ori_in_06! * !ori_in_07!) ** (1/7)'\n",
    "\n",
    "# Calculate the geometric mean and store the result in the 'final_in' attribute\n",
    "arcpy.CalculateField_management(industry_submodel, in_field, final_expression, 'PYTHON3')"
   ]
  },
  {
   "cell_type": "code",
   "execution_count": null,
   "id": "5f0e6e1b",
   "metadata": {},
   "outputs": [],
   "source": []
  }
 ],
 "metadata": {
  "kernelspec": {
   "display_name": "Python 3 (ipykernel)",
   "language": "python",
   "name": "python3"
  },
  "language_info": {
   "codemirror_mode": {
    "name": "ipython",
    "version": 3
   },
   "file_extension": ".py",
   "mimetype": "text/x-python",
   "name": "python",
   "nbconvert_exporter": "python",
   "pygments_lexer": "ipython3",
   "version": "3.9.18"
  }
 },
 "nbformat": 4,
 "nbformat_minor": 5
}
