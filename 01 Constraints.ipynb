{
 "cells": [
  {
   "cell_type": "markdown",
   "id": "02df0dd9",
   "metadata": {},
   "source": [
    "### ORI Final Analysis\n",
    "### 01. Constraints\n",
    "\n",
    "#### 10/15/2024\n",
    "#### This script processes data and creates the constraints submodel. "
   ]
  },
  {
   "cell_type": "code",
   "execution_count": 2,
   "id": "eb238484",
   "metadata": {},
   "outputs": [],
   "source": [
    "#import system modules and set environment\n",
    "import arcpy\n",
    "import os\n",
    "from arcpy import env\n",
    "from arcpy.sa import *\n",
    "arcpy.env.overwriteOutput = True\n",
    "arcpy.env.workspace = 'C:/Users/Eliza.Carter/Documents/Projects/California/ORI'\n",
    "\n",
    "#define spatial reference (EPSG for NAD 83 UTM Zone 11N)\n",
    "spatial_ref = arcpy.SpatialReference(26911)\n",
    "\n",
    "#create a copy of the ORI area hex grid\n",
    "hex_grid = 'data/ORI_Area_of_Interest_grid.shp'\n",
    "constraints_submodel = 'data/input_data/constraints_submodel'\n",
    "arcpy.management.CopyFeatures(hex_grid, constraints_submodel)\n",
    "\n",
    "#define area of interest\n",
    "aoi = 'data/ORI_Area_of_Interest.shp'\n",
    "\n",
    "#create geopackage\n",
    "cs_gpkg_path = 'data/input_data/ORI_Constraints.gpkg'\n",
    "if not os.path.exists(cs_gpkg_path):\n",
    "    arcpy.management.CreateSQLiteDatabase(cs_gpkg_path, \"GEOPACKAGE\")"
   ]
  },
  {
   "cell_type": "code",
   "execution_count": 3,
   "id": "bf9f3b8d",
   "metadata": {},
   "outputs": [
    {
     "data": {
      "text/html": [
       "<div class='gpresult'><h2>Messages</h2><div id='messages' data-messages='[\"Start Time: Wednesday, November 6, 2024 9:24:19 AM\",\"Succeeded at Wednesday, November 6, 2024 9:24:19 AM (Elapsed Time: 0.01 seconds)\"]' data-show='true'><div id = 'default' /></div></div>"
      ],
      "text/plain": [
       "<Result 'constraints_submodel_Layer2'>"
      ]
     },
     "execution_count": 3,
     "metadata": {},
     "output_type": "execute_result"
    }
   ],
   "source": [
    "# Wrecks and Obstructions (ori_cs_01)\n",
    "\n",
    "#define file\n",
    "gpkg_path = 'data/source_data/WreckObstruction.gpkg'\n",
    "file_path = f\"{gpkg_path}/main.WreckObstruction\"\n",
    "\n",
    "#project to defined spatial reference\n",
    "file_project = 'in_memory/file_projected'\n",
    "arcpy.management.Project(file_path, file_project, spatial_ref)\n",
    "\n",
    "#buffer\n",
    "file_buff = 'in_memory/file_buff'\n",
    "arcpy.analysis.Buffer(file_project, file_buff, \"500 Feet\")\n",
    "\n",
    "#save to geopackage\n",
    "output_name = 'Wreck_Obs_500ft'\n",
    "arcpy.conversion.FeatureClassToFeatureClass(file_buff, cs_gpkg_path, output_name)\n",
    "\n",
    "#identify overlap between this layer and the hex grid; score overlapping cells using predetermined value\n",
    "file_selection = arcpy.management.SelectLayerByLocation(constraints_submodel,\n",
    "                                                                     'INTERSECT',\n",
    "                                                                     file_buff)\n",
    "arcpy.management.CalculateField(file_selection, 'ori_cs_01', '0', field_type = \"DOUBLE\")\n",
    "\n",
    "file_selection = arcpy.management.SelectLayerByLocation(constraints_submodel, \n",
    "                                                        'INTERSECT', \n",
    "                                                        file_buff, \n",
    "                                                        invert_spatial_relationship=True)\n",
    "arcpy.management.CalculateField(file_selection, 'ori_cs_01', '1', field_type=\"DOUBLE\")\n"
   ]
  },
  {
   "cell_type": "code",
   "execution_count": 4,
   "id": "73d28345",
   "metadata": {},
   "outputs": [
    {
     "data": {
      "text/html": [
       "<div class='gpresult'><h2>Messages</h2><div id='messages' data-messages='[\"Start Time: Wednesday, November 6, 2024 9:24:19 AM\",\"Succeeded at Wednesday, November 6, 2024 9:24:19 AM (Elapsed Time: 0.02 seconds)\"]' data-show='true'><div id = 'default' /></div></div>"
      ],
      "text/plain": [
       "<Result 'constraints_submodel_Layer4'>"
      ]
     },
     "execution_count": 4,
     "metadata": {},
     "output_type": "execute_result"
    }
   ],
   "source": [
    "# CalCOFI Sites (ori_cs_02)\n",
    "\n",
    "#define file\n",
    "file_path = 'data/source_data/CalCOFI_Survey.shp'\n",
    "\n",
    "#project to defined spatial reference\n",
    "file_project = 'in_memory/file_projected'\n",
    "arcpy.management.Project(file_path, file_project, spatial_ref)\n",
    "\n",
    "#buffer\n",
    "file_buff = 'in_memory/file_buff'\n",
    "arcpy.analysis.Buffer(file_project, file_buff, \"500 Meters\")\n",
    "\n",
    "#save to geopackage\n",
    "output_name = 'CalCOFI_500m'\n",
    "arcpy.conversion.FeatureClassToFeatureClass(file_buff, cs_gpkg_path, output_name)\n",
    "\n",
    "#identify overlap between this layer and the hex grid; score overlapping cells using predetermined value\n",
    "file_selection = arcpy.management.SelectLayerByLocation(constraints_submodel,\n",
    "                                                                     'INTERSECT',\n",
    "                                                                     file_buff)\n",
    "arcpy.management.CalculateField(file_selection, 'ori_cs_02', '0', field_type = \"DOUBLE\")\n",
    "\n",
    "file_selection = arcpy.management.SelectLayerByLocation(constraints_submodel, \n",
    "                                                        'INTERSECT', \n",
    "                                                        file_buff, \n",
    "                                                        invert_spatial_relationship=True)\n",
    "arcpy.management.CalculateField(file_selection, 'ori_cs_02', '1', field_type=\"DOUBLE\")"
   ]
  },
  {
   "cell_type": "code",
   "execution_count": 5,
   "id": "bef614b4",
   "metadata": {},
   "outputs": [
    {
     "data": {
      "text/html": [
       "<div class='gpresult'><h2>Messages</h2><div id='messages' data-messages='[\"Start Time: Wednesday, November 6, 2024 9:24:25 AM\",\"Succeeded at Wednesday, November 6, 2024 9:24:25 AM (Elapsed Time: 0.01 seconds)\"]' data-show='true'><div id = 'default' /></div></div>"
      ],
      "text/plain": [
       "<Result 'constraints_submodel_Layer6'>"
      ]
     },
     "execution_count": 5,
     "metadata": {},
     "output_type": "execute_result"
    }
   ],
   "source": [
    "# Ferry Routes (ori_cs_03)\n",
    "\n",
    "#define file\n",
    "file_path = 'data/source_data/Ferry_Routes.shp'\n",
    "\n",
    "#project to defined spatial reference\n",
    "file_project = 'in_memory/file_projected'\n",
    "arcpy.management.Project(file_path, file_project, spatial_ref)\n",
    "\n",
    "#buffer\n",
    "file_buff = 'in_memory/file_buff'\n",
    "arcpy.analysis.Buffer(file_project, file_buff, \"500 Meters\")\n",
    "\n",
    "#save to geopackage\n",
    "output_name = 'Ferry_Routes_500m'\n",
    "arcpy.conversion.FeatureClassToFeatureClass(file_buff, cs_gpkg_path, output_name)\n",
    "\n",
    "#identify overlap between this layer and the hex grid; score overlapping cells using predetermined value\n",
    "file_selection = arcpy.management.SelectLayerByLocation(constraints_submodel,\n",
    "                                                                     'INTERSECT',\n",
    "                                                                     file_buff)\n",
    "arcpy.management.CalculateField(file_selection, 'ori_cs_03', '0', field_type = \"DOUBLE\")\n",
    "\n",
    "file_selection = arcpy.management.SelectLayerByLocation(constraints_submodel, \n",
    "                                                        'INTERSECT', \n",
    "                                                        file_buff, \n",
    "                                                        invert_spatial_relationship=True)\n",
    "arcpy.management.CalculateField(file_selection, 'ori_cs_03', '1', field_type=\"DOUBLE\")"
   ]
  },
  {
   "cell_type": "code",
   "execution_count": 6,
   "id": "8ee3d147",
   "metadata": {},
   "outputs": [
    {
     "data": {
      "text/html": [
       "<div class='gpresult'><h2>Messages</h2><div id='messages' data-messages='[\"Start Time: Wednesday, November 6, 2024 9:25:21 AM\",\"Succeeded at Wednesday, November 6, 2024 9:25:21 AM (Elapsed Time: 0.02 seconds)\"]' data-show='true'><div id = 'default' /></div></div>"
      ],
      "text/plain": [
       "<Result 'constraints_submodel_Layer8'>"
      ]
     },
     "execution_count": 6,
     "metadata": {},
     "output_type": "execute_result"
    }
   ],
   "source": [
    "# Hardbottom (ori_cs_04)\n",
    "\n",
    "#define file\n",
    "file_url = 'https://tiledimageservices2.arcgis.com/Uq9r85Potqm3MfRV/arcgis/rest/services/biosds3091_cru/ImageServer'\n",
    "file_path = 'in_memory/file_path'\n",
    "arcpy.management.MakeImageServerLayer(file_url, file_path)\n",
    "\n",
    "#extract by mask using buffered AOI\n",
    "aoi_buff = 'in_memory/aoi_buff'\n",
    "arcpy.analysis.Buffer(aoi, aoi_buff, \"1000 Meters\")\n",
    "\n",
    "raster_path = 'in_memory/raster_path'\n",
    "out_raster = arcpy.sa.ExtractByMask(file_path, aoi_buff, \"INSIDE\")\n",
    "out_raster.save(raster_path)\n",
    "\n",
    "#convert raster to polgon\n",
    "poly_path = 'in_memory/poly_path'\n",
    "arcpy.conversion.RasterToPolygon(out_raster, poly_path, \"SIMPLIFY\", \"CLASSNAME\",\"SINGLE_OUTER_PART\")\n",
    "\n",
    "#project to defined spatial reference\n",
    "file_project = 'in_memory/file_projected'\n",
    "arcpy.management.Project(poly_path, file_project, spatial_ref)\n",
    "\n",
    "#select only harbottom\n",
    "harbottom = arcpy.management.SelectLayerByAttribute(file_project, \"NEW_SELECTION\", where_clause = \"CLASSNAME = 'Hard'\")\n",
    "                                                    \n",
    "#buffer\n",
    "file_buff = 'in_memory/file_buff'\n",
    "arcpy.analysis.Buffer(harbottom, file_buff, \"500 Feet\")\n",
    "\n",
    "#save to geopackage\n",
    "output_name = 'Harbottom_500ft'\n",
    "arcpy.conversion.FeatureClassToFeatureClass(file_buff, cs_gpkg_path, output_name)\n",
    "\n",
    "#identify overlap between this layer and the hex grid; score overlapping cells using predetermined value\n",
    "file_selection = arcpy.management.SelectLayerByLocation(constraints_submodel,\n",
    "                                                                     'INTERSECT',\n",
    "                                                                     file_buff)\n",
    "arcpy.management.CalculateField(file_selection, 'ori_cs_04', '0', field_type = \"DOUBLE\")\n",
    "\n",
    "file_selection = arcpy.management.SelectLayerByLocation(constraints_submodel, \n",
    "                                                        'INTERSECT', \n",
    "                                                        file_buff, \n",
    "                                                        invert_spatial_relationship=True)\n",
    "arcpy.management.CalculateField(file_selection, 'ori_cs_04', '1', field_type=\"DOUBLE\")"
   ]
  },
  {
   "cell_type": "code",
   "execution_count": 7,
   "id": "168de164",
   "metadata": {},
   "outputs": [
    {
     "data": {
      "text/html": [
       "<div class='gpresult'><h2>Messages</h2><div id='messages' data-messages='[\"Start Time: Wednesday, November 6, 2024 9:25:23 AM\",\"Succeeded at Wednesday, November 6, 2024 9:25:23 AM (Elapsed Time: 0.03 seconds)\"]' data-show='true'><div id = 'default' /></div></div>"
      ],
      "text/plain": [
       "<Result 'constraints_submodel_Layer10'>"
      ]
     },
     "execution_count": 7,
     "metadata": {},
     "output_type": "execute_result"
    }
   ],
   "source": [
    "# JOFLO Corridors (ori_cs_05)\n",
    "\n",
    "#define file\n",
    "file_path = 'data/source_data/AOA_Industry.gdb/SoCal_JOFLO_Cooridors'\n",
    "\n",
    "#project to defined spatial reference\n",
    "file_project = 'in_memory/file_projected'\n",
    "arcpy.management.Project(file_path, file_project, spatial_ref)\n",
    "\n",
    "#buffer\n",
    "file_buff = 'in_memory/file_buff'\n",
    "arcpy.analysis.Buffer(file_project, file_buff, \"500 Feet\")\n",
    "\n",
    "#save to geopackage\n",
    "output_name = 'JOFLO_500ft'\n",
    "arcpy.conversion.FeatureClassToFeatureClass(file_buff, cs_gpkg_path, output_name)\n",
    "\n",
    "#identify overlap between this layer and the hex grid; score overlapping cells using predetermined value\n",
    "file_selection = arcpy.management.SelectLayerByLocation(constraints_submodel,\n",
    "                                                                     'INTERSECT',\n",
    "                                                                     file_buff)\n",
    "arcpy.management.CalculateField(file_selection, 'ori_cs_05', '0', field_type = \"DOUBLE\")\n",
    "\n",
    "file_selection = arcpy.management.SelectLayerByLocation(constraints_submodel, \n",
    "                                                        'INTERSECT', \n",
    "                                                        file_buff, \n",
    "                                                        invert_spatial_relationship=True)\n",
    "arcpy.management.CalculateField(file_selection, 'ori_cs_05', '1', field_type=\"DOUBLE\")"
   ]
  },
  {
   "cell_type": "code",
   "execution_count": 8,
   "id": "d288df3d",
   "metadata": {},
   "outputs": [
    {
     "data": {
      "text/html": [
       "<div class='gpresult'><h2>Messages</h2><div id='messages' data-messages='[\"Start Time: Wednesday, November 6, 2024 9:25:36 AM\",\"Succeeded at Wednesday, November 6, 2024 9:25:36 AM (Elapsed Time: 0.03 seconds)\"]' data-show='true'><div id = 'default' /></div></div>"
      ],
      "text/plain": [
       "<Result 'constraints_submodel_Layer12'>"
      ]
     },
     "execution_count": 8,
     "metadata": {},
     "output_type": "execute_result"
    }
   ],
   "source": [
    "# Navigable Waterways (ori_cs_06)\n",
    "\n",
    "#define file\n",
    "file_path = 'data/source_data/CNW_V6_2024.shp'\n",
    "\n",
    "#project to defined spatial reference\n",
    "file_project = 'in_memory/file_projected'\n",
    "arcpy.management.Project(file_path, file_project, spatial_ref)\n",
    "\n",
    "#buffer\n",
    "file_buff = 'in_memory/file_buff'\n",
    "arcpy.analysis.Buffer(file_project, file_buff, \"500 Meters\")\n",
    "\n",
    "#save to geopackage\n",
    "output_name = 'Navigable_Water_500m'\n",
    "arcpy.conversion.FeatureClassToFeatureClass(file_buff, cs_gpkg_path, output_name)\n",
    "\n",
    "#identify overlap between this layer and the hex grid; score overlapping cells using predetermined value\n",
    "file_selection = arcpy.management.SelectLayerByLocation(constraints_submodel,\n",
    "                                                                     'INTERSECT',\n",
    "                                                                     file_buff)\n",
    "arcpy.management.CalculateField(file_selection, 'ori_cs_06', '0', field_type = \"DOUBLE\")\n",
    "\n",
    "file_selection = arcpy.management.SelectLayerByLocation(constraints_submodel, \n",
    "                                                        'INTERSECT', \n",
    "                                                        file_buff, \n",
    "                                                        invert_spatial_relationship=True)\n",
    "arcpy.management.CalculateField(file_selection, 'ori_cs_06', '1', field_type=\"DOUBLE\")"
   ]
  },
  {
   "cell_type": "code",
   "execution_count": 9,
   "id": "cd39be44",
   "metadata": {},
   "outputs": [
    {
     "data": {
      "text/html": [
       "<div class='gpresult'><h2>Messages</h2><div id='messages' data-messages='[\"Start Time: Wednesday, November 6, 2024 9:26:07 AM\",\"Succeeded at Wednesday, November 6, 2024 9:26:08 AM (Elapsed Time: 0.02 seconds)\"]' data-show='true'><div id = 'default' /></div></div>"
      ],
      "text/plain": [
       "<Result 'constraints_submodel_Layer14'>"
      ]
     },
     "execution_count": 9,
     "metadata": {},
     "output_type": "execute_result"
    }
   ],
   "source": [
    "# Oil and Gas Pipelines (ori_cs_07)\n",
    "\n",
    "#define file\n",
    "file_path = 'data/source_data/Pipeline_Areas.shp'\n",
    "\n",
    "#project to defined spatial reference\n",
    "file_project = 'in_memory/file_projected'\n",
    "arcpy.management.Project(file_path, file_project, spatial_ref)\n",
    "\n",
    "#buffer\n",
    "file_buff = 'in_memory/file_buff'\n",
    "arcpy.analysis.Buffer(file_project, file_buff, \"500 Meters\")\n",
    "\n",
    "#save to geopackage\n",
    "output_name = 'OG_Pipelines_500m'\n",
    "arcpy.conversion.FeatureClassToFeatureClass(file_buff, cs_gpkg_path, output_name)\n",
    "\n",
    "#identify overlap between this layer and the hex grid; score overlapping cells using predetermined value\n",
    "file_selection = arcpy.management.SelectLayerByLocation(constraints_submodel,\n",
    "                                                                     'INTERSECT',\n",
    "                                                                     file_buff)\n",
    "arcpy.management.CalculateField(file_selection, 'ori_cs_07', '0', field_type = \"DOUBLE\")\n",
    "\n",
    "file_selection = arcpy.management.SelectLayerByLocation(constraints_submodel, \n",
    "                                                        'INTERSECT', \n",
    "                                                        file_buff, \n",
    "                                                        invert_spatial_relationship=True)\n",
    "arcpy.management.CalculateField(file_selection, 'ori_cs_07', '1', field_type=\"DOUBLE\")"
   ]
  },
  {
   "cell_type": "code",
   "execution_count": 10,
   "id": "0a03ed82",
   "metadata": {},
   "outputs": [
    {
     "data": {
      "text/html": [
       "<div class='gpresult'><h2>Messages</h2><div id='messages' data-messages='[\"Start Time: Wednesday, November 6, 2024 9:26:25 AM\",\"Succeeded at Wednesday, November 6, 2024 9:26:25 AM (Elapsed Time: 0.02 seconds)\"]' data-show='true'><div id = 'default' /></div></div>"
      ],
      "text/plain": [
       "<Result 'constraints_submodel_Layer16'>"
      ]
     },
     "execution_count": 10,
     "metadata": {},
     "output_type": "execute_result"
    }
   ],
   "source": [
    "# Oil and Gas Wells (ori_cs_08)\n",
    "\n",
    "#define file\n",
    "file_path = 'data/source_data/OffshoreOilGasWell.gpkg/main.OffshoreOilGasWell'\n",
    "\n",
    "#project to defined spatial reference\n",
    "file_project = 'in_memory/file_projected'\n",
    "arcpy.management.Project(file_path, file_project, spatial_ref)\n",
    "\n",
    "#buffer\n",
    "file_buff = 'in_memory/file_buff'\n",
    "arcpy.analysis.Buffer(file_project, file_buff, \"500 Meters\")\n",
    "\n",
    "#save to geopackage\n",
    "output_name = 'OG_Wells_500m'\n",
    "arcpy.conversion.FeatureClassToFeatureClass(file_buff, cs_gpkg_path, output_name)\n",
    "\n",
    "#identify overlap between this layer and the hex grid; score overlapping cells using predetermined value\n",
    "file_selection = arcpy.management.SelectLayerByLocation(constraints_submodel,\n",
    "                                                                     'INTERSECT',\n",
    "                                                                     file_buff)\n",
    "arcpy.management.CalculateField(file_selection, 'ori_cs_08', '0', field_type = \"DOUBLE\")\n",
    "\n",
    "file_selection = arcpy.management.SelectLayerByLocation(constraints_submodel, \n",
    "                                                        'INTERSECT', \n",
    "                                                        file_buff, \n",
    "                                                        invert_spatial_relationship=True)\n",
    "arcpy.management.CalculateField(file_selection, 'ori_cs_08', '1', field_type=\"DOUBLE\")"
   ]
  },
  {
   "cell_type": "code",
   "execution_count": 11,
   "id": "5a6460ea",
   "metadata": {},
   "outputs": [
    {
     "data": {
      "text/html": [
       "<div class='gpresult'><h2>Messages</h2><div id='messages' data-messages='[\"Start Time: Wednesday, November 6, 2024 9:26:26 AM\",\"Succeeded at Wednesday, November 6, 2024 9:26:26 AM (Elapsed Time: 0.02 seconds)\"]' data-show='true'><div id = 'default' /></div></div>"
      ],
      "text/plain": [
       "<Result 'constraints_submodel_Layer18'>"
      ]
     },
     "execution_count": 11,
     "metadata": {},
     "output_type": "execute_result"
    }
   ],
   "source": [
    "# Oil and Gas Platforms (ori_cs_09)\n",
    "\n",
    "#define file\n",
    "file_path = 'data/source_data/OffshoreOilGasPlatform.gpkg/main.OffshoreOilGasPlatform'\n",
    "\n",
    "#project to defined spatial reference\n",
    "file_project = 'in_memory/file_projected'\n",
    "arcpy.management.Project(file_path, file_project, spatial_ref)\n",
    "\n",
    "#buffer\n",
    "file_buff = 'in_memory/file_buff'\n",
    "arcpy.analysis.Buffer(file_project, file_buff, \"500 Meters\")\n",
    "\n",
    "#save to geopackage\n",
    "output_name = 'OG_Platforms_500m'\n",
    "arcpy.conversion.FeatureClassToFeatureClass(file_buff, cs_gpkg_path, output_name)\n",
    "\n",
    "#identify overlap between this layer and the hex grid; score overlapping cells using predetermined value\n",
    "file_selection = arcpy.management.SelectLayerByLocation(constraints_submodel,\n",
    "                                                                     'INTERSECT',\n",
    "                                                                     file_buff)\n",
    "arcpy.management.CalculateField(file_selection, 'ori_cs_09', '0', field_type = \"DOUBLE\")\n",
    "\n",
    "file_selection = arcpy.management.SelectLayerByLocation(constraints_submodel, \n",
    "                                                        'INTERSECT', \n",
    "                                                        file_buff, \n",
    "                                                        invert_spatial_relationship=True)\n",
    "arcpy.management.CalculateField(file_selection, 'ori_cs_09', '1', field_type=\"DOUBLE\")"
   ]
  },
  {
   "cell_type": "code",
   "execution_count": 12,
   "id": "8b4c9204",
   "metadata": {},
   "outputs": [
    {
     "data": {
      "text/html": [
       "<div class='gpresult'><h2>Messages</h2><div id='messages' data-messages='[\"Start Time: Wednesday, November 6, 2024 9:26:31 AM\",\"Succeeded at Wednesday, November 6, 2024 9:26:31 AM (Elapsed Time: 0.03 seconds)\"]' data-show='true'><div id = 'default' /></div></div>"
      ],
      "text/plain": [
       "<Result 'constraints_submodel_Layer20'>"
      ]
     },
     "execution_count": 12,
     "metadata": {},
     "output_type": "execute_result"
    }
   ],
   "source": [
    "# Submarine Cables (ori_cs_10)\n",
    "\n",
    "#define file\n",
    "file_path = 'data/source_data/SubmarineCable.gpkg/main.SubmarineCable'\n",
    "\n",
    "#project to defined spatial reference\n",
    "file_project = 'in_memory/file_projected'\n",
    "arcpy.management.Project(file_path, file_project, spatial_ref)\n",
    "\n",
    "#buffer\n",
    "file_buff = 'in_memory/file_buff'\n",
    "arcpy.analysis.Buffer(file_project, file_buff, \"500 Meters\")\n",
    "\n",
    "#save to geopackage\n",
    "output_name = 'Sub_Cables_500m'\n",
    "arcpy.conversion.FeatureClassToFeatureClass(file_buff, cs_gpkg_path, output_name)\n",
    "\n",
    "#identify overlap between this layer and the hex grid; score overlapping cells using predetermined value\n",
    "file_selection = arcpy.management.SelectLayerByLocation(constraints_submodel,\n",
    "                                                                     'INTERSECT',\n",
    "                                                                     file_buff)\n",
    "arcpy.management.CalculateField(file_selection, 'ori_cs_10', '0', field_type = \"DOUBLE\")\n",
    "\n",
    "file_selection = arcpy.management.SelectLayerByLocation(constraints_submodel, \n",
    "                                                        'INTERSECT', \n",
    "                                                        file_buff, \n",
    "                                                        invert_spatial_relationship=True)\n",
    "arcpy.management.CalculateField(file_selection, 'ori_cs_10', '1', field_type=\"DOUBLE\")"
   ]
  },
  {
   "cell_type": "code",
   "execution_count": 13,
   "id": "9836241d",
   "metadata": {},
   "outputs": [
    {
     "data": {
      "text/html": [
       "<div class='gpresult'><h2>Messages</h2><div id='messages' data-messages='[\"Start Time: Wednesday, November 6, 2024 9:26:31 AM\",\"Succeeded at Wednesday, November 6, 2024 9:26:31 AM (Elapsed Time: 0.05 seconds)\"]' data-show='true'><div id = 'default' /></div></div>"
      ],
      "text/plain": [
       "<Result 'C:/Users/Eliza.Carter/Documents/Projects/California/ORI\\\\data/input_data/constraints_submodel.shp'>"
      ]
     },
     "execution_count": 13,
     "metadata": {},
     "output_type": "execute_result"
    }
   ],
   "source": [
    "# Constraints Submodel\n",
    "\n",
    "#call shapefile\n",
    "constraints_submodel = 'data/input_data/constraints_submodel.shp'\n",
    "\n",
    "#create a new field for constraints\n",
    "constraint_field = \"cs_final\"\n",
    "\n",
    "existing_fields = [f.name for f in arcpy.ListFields(constraints_submodel)]\n",
    "\n",
    "if constraint_field not in existing_fields:\n",
    "    arcpy.management.AddField(constraints_submodel, constraint_field, 'DOUBLE')\n",
    "    \n",
    "#expression to get final constraints\n",
    "final_expression = '(!ori_cs_01! * !ori_cs_02! * !ori_cs_03! * !ori_cs_04! * !ori_cs_05! * !ori_cs_06! * !ori_cs_07! * !ori_cs_08! * !ori_cs_09! * !ori_cs_10!)'\n",
    "\n",
    "\n",
    "#calculate the geometric mean and store the result in the 'final_cs' attribute\n",
    "arcpy.CalculateField_management(constraints_submodel, constraint_field, final_expression, 'PYTHON3')\n"
   ]
  },
  {
   "cell_type": "code",
   "execution_count": 14,
   "id": "1f62437a",
   "metadata": {},
   "outputs": [
    {
     "data": {
      "text/html": [
       "<div class='gpresult'><h2>Messages</h2><div id='messages' data-messages='[\"Start Time: Wednesday, November 6, 2024 9:26:32 AM\",\"Succeeded at Wednesday, November 6, 2024 9:26:32 AM (Elapsed Time: 0.06 seconds)\"]' data-show='true'><div id = 'default' /></div></div>"
      ],
      "text/plain": [
       "<Result 'C:/Users/Eliza.Carter/Documents/Projects/California/ORI\\\\data/input_data\\\\constrained.shp'>"
      ]
     },
     "execution_count": 14,
     "metadata": {},
     "output_type": "execute_result"
    }
   ],
   "source": [
    "# Export constrained hexes\n",
    "\n",
    "#create feature layer for the file\n",
    "arcpy.management.MakeFeatureLayer(constraints_submodel, \"constrained\")\n",
    "\n",
    "#select file where it is constrained\n",
    "arcpy.management.SelectLayerByAttribute(\"constrained\", \"NEW_SELECTION\", '\"cs_final\" <> 0')\n",
    "\n",
    "#export the selection\n",
    "out_path = 'data/input_data'\n",
    "out_name = 'constrained.shp'\n",
    "\n",
    "arcpy.conversion.FeatureClassToFeatureClass(\"constrained\", out_path, out_name)\n"
   ]
  },
  {
   "cell_type": "code",
   "execution_count": null,
   "id": "6d5672ca",
   "metadata": {},
   "outputs": [],
   "source": []
  }
 ],
 "metadata": {
  "kernelspec": {
   "display_name": "Python 3 (ipykernel)",
   "language": "python",
   "name": "python3"
  },
  "language_info": {
   "codemirror_mode": {
    "name": "ipython",
    "version": 3
   },
   "file_extension": ".py",
   "mimetype": "text/x-python",
   "name": "python",
   "nbconvert_exporter": "python",
   "pygments_lexer": "ipython3",
   "version": "3.9.18"
  }
 },
 "nbformat": 4,
 "nbformat_minor": 5
}
