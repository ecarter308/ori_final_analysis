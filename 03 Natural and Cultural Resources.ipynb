{
 "cells": [
  {
   "cell_type": "markdown",
   "id": "19f47910",
   "metadata": {},
   "source": [
    "### ORI Final Analysis\n",
    "### 03. Natural and Cultural Resources\n",
    "\n",
    "#### 10/24/2024\n",
    "#### This script processes data and creates the natioanl security submodel. "
   ]
  },
  {
   "cell_type": "code",
   "execution_count": 1,
   "id": "a94fd57b",
   "metadata": {},
   "outputs": [],
   "source": [
    "#import system modules and set environment\n",
    "import arcpy\n",
    "import os\n",
    "from arcpy import env\n",
    "from arcpy.sa import *\n",
    "arcpy.env.overwriteOutput = True\n",
    "arcpy.env.workspace = 'C:/Users/Eliza.Carter/Documents/Projects/California/ORI'\n",
    "\n",
    "#define spatial reference (EPSG for NAD 83 UTM Zone 11N)\n",
    "spatial_ref = arcpy.SpatialReference(26911)\n",
    "\n",
    "#create a copy of the ORI area hex grid\n",
    "#hex_grid = 'data/ORI_Area_of_Interest_grid.shp'\n",
    "hex_grid = 'data/input_data/constrained.shp'\n",
    "nc_submodel = 'data/input_data/natural_cultural_submodel'\n",
    "arcpy.management.CopyFeatures(hex_grid, nc_submodel)\n",
    "\n",
    "#define area of interest\n",
    "aoi = 'data/ORI_Area_of_Interest.shp'\n",
    "\n",
    "#create geopackage\n",
    "nc_gpkg_path = 'data/input_data/ORI_Natural_Cultural.gpkg'\n",
    "if not os.path.exists(nc_gpkg_path):\n",
    "    arcpy.management.CreateSQLiteDatabase(nc_gpkg_path, \"GEOPACKAGE\")"
   ]
  },
  {
   "cell_type": "code",
   "execution_count": 2,
   "id": "b5e2cc48",
   "metadata": {},
   "outputs": [
    {
     "data": {
      "text/html": [
       "<div class='gpresult'><h2>Messages</h2><div id='messages' data-messages='[\"Start Time: Monday, November 4, 2024 11:20:08 AM\",\"Succeeded at Monday, November 4, 2024 11:20:08 AM (Elapsed Time: 0.01 seconds)\"]' data-show='true'><div id = 'default' /></div></div>"
      ],
      "text/plain": [
       "<Result 'natural_cultural_submodel_La2'>"
      ]
     },
     "execution_count": 2,
     "metadata": {},
     "output_type": "execute_result"
    }
   ],
   "source": [
    "# Humpback Whale Critical Habitat (ori_nc_01)\n",
    "\n",
    "#define file\n",
    "file_path = 'data/source_data/WhaleHumpback_MexicoDPS_20210421.shp'\n",
    "\n",
    "#create feature layer for the file\n",
    "arcpy.management.MakeFeatureLayer(file_path, \"critical_hab_intersect\")\n",
    "\n",
    "#select file where it itersects the grid\n",
    "arcpy.management.SelectLayerByLocation(\n",
    "    in_layer= \"critical_hab_intersect\",\n",
    "    overlap_type=\"INTERSECT\",\n",
    "    select_features= nc_submodel,\n",
    "    search_distance=None,\n",
    "    selection_type=\"NEW_SELECTION\",\n",
    "    invert_spatial_relationship=\"NOT_INVERT\"\n",
    ")\n",
    "\n",
    "#project to defined spatial reference\n",
    "file_project = 'in_memory/file_projected'\n",
    "arcpy.management.Project(\"critical_hab_intersect\", file_project, spatial_ref)\n",
    "\n",
    "#save to geopackage\n",
    "output_name = 'Humpback_Whale_Critical_Habitat'\n",
    "arcpy.conversion.FeatureClassToFeatureClass(file_project, nc_gpkg_path, output_name)\n",
    "\n",
    "#identify overlap between this layer and the hex grid; score overlapping cells using predetermined value\n",
    "file_selection = arcpy.management.SelectLayerByLocation(nc_submodel,\n",
    "                                                                     'INTERSECT',\n",
    "                                                                     file_project)\n",
    "arcpy.management.CalculateField(file_selection, 'ori_nc_01', '0.2', field_type = \"DOUBLE\")\n",
    "\n",
    "file_selection = arcpy.management.SelectLayerByLocation(nc_submodel, \n",
    "                                                        'INTERSECT', \n",
    "                                                        file_project, \n",
    "                                                        invert_spatial_relationship=True)\n",
    "arcpy.management.CalculateField(file_selection, 'ori_nc_01', '1', field_type=\"DOUBLE\")"
   ]
  },
  {
   "cell_type": "code",
   "execution_count": 3,
   "id": "e61e807b",
   "metadata": {},
   "outputs": [
    {
     "data": {
      "text/html": [
       "<div class='gpresult'><h2>Messages</h2><div id='messages' data-messages='[\"Start Time: Monday, November 4, 2024 11:20:08 AM\",\"Succeeded at Monday, November 4, 2024 11:20:08 AM (Elapsed Time: 0.02 seconds)\"]' data-show='true'><div id = 'default' /></div></div>"
      ],
      "text/plain": [
       "<Result 'C:/Users/Eliza.Carter/Documents/Projects/California/ORI\\\\data/input_data/natural_cultural_submodel.shp'>"
      ]
     },
     "execution_count": 3,
     "metadata": {},
     "output_type": "execute_result"
    }
   ],
   "source": [
    "# Natural and Cultural Resources Submodel\n",
    "\n",
    "#call shapefile\n",
    "nc_submodel = 'data/input_data/natural_cultural_submodel.shp'\n",
    "\n",
    "#create a new field for national security\n",
    "nc_field = \"nc_final\"\n",
    "\n",
    "existing_fields = [f.name for f in arcpy.ListFields(nc_submodel)]\n",
    "\n",
    "if nc_field not in existing_fields:\n",
    "    arcpy.management.AddField(nc_submodel, nc_field, 'DOUBLE')\n",
    "    \n",
    "#expression to get final constraints\n",
    "final_expression = '(!ori_nc_01!)'\n",
    "\n",
    "# Calculate the geometric mean and store the result in the 'final_nc' attribute\n",
    "arcpy.CalculateField_management(nc_submodel, nc_field, final_expression, 'PYTHON3')\n"
   ]
  },
  {
   "cell_type": "code",
   "execution_count": null,
   "id": "330eabac",
   "metadata": {},
   "outputs": [],
   "source": []
  }
 ],
 "metadata": {
  "kernelspec": {
   "display_name": "Python 3 (ipykernel)",
   "language": "python",
   "name": "python3"
  },
  "language_info": {
   "codemirror_mode": {
    "name": "ipython",
    "version": 3
   },
   "file_extension": ".py",
   "mimetype": "text/x-python",
   "name": "python",
   "nbconvert_exporter": "python",
   "pygments_lexer": "ipython3",
   "version": "3.9.18"
  }
 },
 "nbformat": 4,
 "nbformat_minor": 5
}
