{
 "cells": [
  {
   "cell_type": "markdown",
   "id": "0afb23f5",
   "metadata": {},
   "source": [
    "### ORI Final Analysis\n",
    "### 02. National Secutiry\n",
    "\n",
    "#### 10/24/2024\n",
    "#### This script processes data and creates the natioanl security submodel. "
   ]
  },
  {
   "cell_type": "code",
   "execution_count": 3,
   "id": "c882bfb5",
   "metadata": {},
   "outputs": [],
   "source": [
    "#import system modules and set environment\n",
    "import arcpy\n",
    "import os\n",
    "from arcpy import env\n",
    "from arcpy.sa import *\n",
    "arcpy.env.overwriteOutput = True\n",
    "arcpy.env.workspace = 'C:/Users/Eliza.Carter/Documents/Projects/California/ORI'\n",
    "\n",
    "#define spatial reference (EPSG for NAD 83 UTM Zone 11N)\n",
    "spatial_ref = arcpy.SpatialReference(26911)\n",
    "\n",
    "#create a copy of the ORI area hex grid\n",
    "#hex_grid = 'data/ORI_Area_of_Interest_grid.shp'\n",
    "hex_grid = 'data/input_data/constrained.shp'\n",
    "ns_submodel = 'data/input_data/national_security_submodel'\n",
    "arcpy.management.CopyFeatures(hex_grid, ns_submodel)\n",
    "\n",
    "#define area of interest\n",
    "aoi = 'data/ORI_Area_of_Interest.shp'\n",
    "\n",
    "#create geopackage\n",
    "ns_gpkg_path = 'data/input_data/ORI_National_Security.gpkg'\n",
    "if not os.path.exists(ns_gpkg_path):\n",
    "    arcpy.management.CreateSQLiteDatabase(ns_gpkg_path, \"GEOPACKAGE\")"
   ]
  },
  {
   "cell_type": "code",
   "execution_count": 4,
   "id": "18a1ed55",
   "metadata": {},
   "outputs": [
    {
     "data": {
      "text/html": [
       "<div class='gpresult'><h2>Messages</h2><div id='messages' data-messages='[\"Start Time: Monday, November 4, 2024 11:19:31 AM\",\"Succeeded at Monday, November 4, 2024 11:19:31 AM (Elapsed Time: 0.02 seconds)\"]' data-show='true'><div id = 'default' /></div></div>"
      ],
      "text/plain": [
       "<Result 'national_security_submodel_L2'>"
      ]
     },
     "execution_count": 4,
     "metadata": {},
     "output_type": "execute_result"
    }
   ],
   "source": [
    "# Military Training Routes (ori_ns_01)\n",
    "\n",
    "#define file\n",
    "file_path = 'data/source_data/MTR_Segment.shp'\n",
    "\n",
    "#create feature layer for the file\n",
    "arcpy.management.MakeFeatureLayer(file_path, \"mtr_intersect\")\n",
    "\n",
    "#select file where it itersects the grid\n",
    "arcpy.management.SelectLayerByLocation(\n",
    "    in_layer= \"mtr_intersect\",\n",
    "    overlap_type=\"INTERSECT\",\n",
    "    select_features= ns_submodel,\n",
    "    search_distance=None,\n",
    "    selection_type=\"NEW_SELECTION\",\n",
    "    invert_spatial_relationship=\"NOT_INVERT\"\n",
    ")\n",
    "\n",
    "#project to defined spatial reference\n",
    "file_project = 'in_memory/file_projected'\n",
    "arcpy.management.Project(\"mtr_intersect\", file_project, spatial_ref)\n",
    "\n",
    "##buffer by route width\n",
    "left_buffer = \"in_memory/left_buffer\"\n",
    "right_buffer = \"in_memory/right_buffer\"\n",
    "\n",
    "#create new fields\n",
    "if not arcpy.ListFields(file_project, \"widthleft_m\"):\n",
    "    arcpy.AddField_management(file_project, \"widthleft_m\", \"DOUBLE\")\n",
    "if not arcpy.ListFields(file_project, \"widthright_m\"):\n",
    "    arcpy.AddField_management(file_project, \"widthright_m\", \"DOUBLE\")\n",
    "\n",
    "#calculate width in meters\n",
    "arcpy.CalculateField_management(file_project, \"widthleft_m\", \"!widthleft! * 1609.344\", \"PYTHON3\")\n",
    "arcpy.CalculateField_management(file_project, \"widthright_m\", \"!widthright! * 1609.344\", \"PYTHON3\")\n",
    "\n",
    "#create buffers\n",
    "arcpy.Buffer_analysis(file_project, left_buffer, \"widthleft_m\", line_side=\"LEFT\", dissolve_option=\"NONE\")\n",
    "arcpy.Buffer_analysis(file_project, right_buffer, \"widthright_m\", line_side=\"RIGHT\", dissolve_option=\"NONE\")\n",
    "\n",
    "#merge and dissolve buffers\n",
    "merged_buffers = \"in_memory/merged_buffers\"\n",
    "arcpy.Merge_management([left_buffer, right_buffer], merged_buffers)\n",
    "\n",
    "dissolved_buffer = \"in_memory/dissolved_buffer\"\n",
    "arcpy.Dissolve_management(merged_buffers, dissolved_buffer)\n",
    "\n",
    "#save to geopackage\n",
    "output_name = 'MTR_buffer'\n",
    "arcpy.conversion.FeatureClassToFeatureClass(dissolved_buffer, ns_gpkg_path, output_name)\n",
    "\n",
    "#identify overlap between this layer and the hex grid; score overlapping cells using predetermined value\n",
    "file_selection = arcpy.management.SelectLayerByLocation(ns_submodel,\n",
    "                                                                     'INTERSECT',\n",
    "                                                                     dissolved_buffer)\n",
    "arcpy.management.CalculateField(file_selection, 'ori_ns_01', '0.5', field_type = \"DOUBLE\")\n",
    "\n",
    "file_selection = arcpy.management.SelectLayerByLocation(ns_submodel, \n",
    "                                                        'INTERSECT', \n",
    "                                                        dissolved_buffer, \n",
    "                                                        invert_spatial_relationship=True)\n",
    "arcpy.management.CalculateField(file_selection, 'ori_ns_01', '1', field_type=\"DOUBLE\")\n"
   ]
  },
  {
   "cell_type": "code",
   "execution_count": 5,
   "id": "f7824396",
   "metadata": {},
   "outputs": [
    {
     "data": {
      "text/html": [
       "<div class='gpresult'><h2>Messages</h2><div id='messages' data-messages='[\"Start Time: Monday, November 4, 2024 11:19:38 AM\",\"Succeeded at Monday, November 4, 2024 11:19:38 AM (Elapsed Time: 0.03 seconds)\"]' data-show='true'><div id = 'default' /></div></div>"
      ],
      "text/plain": [
       "<Result 'national_security_submodel_L4'>"
      ]
     },
     "execution_count": 5,
     "metadata": {},
     "output_type": "execute_result"
    }
   ],
   "source": [
    "# Formerly Used Defense Sites (ori_ns_02)\n",
    "\n",
    "#define file\n",
    "gpkg_path = 'data/source_data/FormerlyUsedDefenseSite.gpkg'\n",
    "file_path = f\"{gpkg_path}/main.FormerlyUsedDefenseSite\"\n",
    "\n",
    "#create feature layer for the file\n",
    "arcpy.management.MakeFeatureLayer(file_path, \"fuds_intersect\")\n",
    "\n",
    "#select file where it itersects the grid\n",
    "arcpy.management.SelectLayerByLocation(\n",
    "    in_layer= \"fuds_intersect\",\n",
    "    overlap_type=\"INTERSECT\",\n",
    "    select_features= ns_submodel,\n",
    "    search_distance=None,\n",
    "    selection_type=\"NEW_SELECTION\",\n",
    "    invert_spatial_relationship=\"NOT_INVERT\"\n",
    ")\n",
    "\n",
    "#project to defined spatial reference\n",
    "file_project = 'in_memory/file_projected'\n",
    "arcpy.management.Project(\"fuds_intersect\", file_project, spatial_ref)\n",
    "\n",
    "#save to geopackage\n",
    "output_name = 'FUDS'\n",
    "arcpy.conversion.FeatureClassToFeatureClass(file_project, ns_gpkg_path, output_name)\n",
    "\n",
    "#identify overlap between this layer and the hex grid; score overlapping cells using predetermined value\n",
    "file_selection = arcpy.management.SelectLayerByLocation(ns_submodel,\n",
    "                                                                     'INTERSECT',\n",
    "                                                                     file_project)\n",
    "arcpy.management.CalculateField(file_selection, 'ori_ns_02', '0.5', field_type = \"DOUBLE\")\n",
    "\n",
    "file_selection = arcpy.management.SelectLayerByLocation(ns_submodel, \n",
    "                                                        'INTERSECT', \n",
    "                                                        file_project, \n",
    "                                                        invert_spatial_relationship=True)\n",
    "arcpy.management.CalculateField(file_selection, 'ori_ns_02', '1', field_type=\"DOUBLE\")"
   ]
  },
  {
   "cell_type": "code",
   "execution_count": 6,
   "id": "86cf86a4",
   "metadata": {},
   "outputs": [
    {
     "data": {
      "text/html": [
       "<div class='gpresult'><h2>Messages</h2><div id='messages' data-messages='[\"Start Time: Monday, November 4, 2024 11:19:39 AM\",\"Succeeded at Monday, November 4, 2024 11:19:39 AM (Elapsed Time: 0.02 seconds)\"]' data-show='true'><div id = 'default' /></div></div>"
      ],
      "text/plain": [
       "<Result 'C:/Users/Eliza.Carter/Documents/Projects/California/ORI\\\\data/input_data/national_security_submodel.shp'>"
      ]
     },
     "execution_count": 6,
     "metadata": {},
     "output_type": "execute_result"
    }
   ],
   "source": [
    "# National Security Submodel\n",
    "\n",
    "#call shapefile\n",
    "ns_submodel = 'data/input_data/national_security_submodel.shp'\n",
    "\n",
    "#create a new field for national security\n",
    "ns_field = \"ns_final\"\n",
    "\n",
    "existing_fields = [f.name for f in arcpy.ListFields(ns_submodel)]\n",
    "\n",
    "if ns_field not in existing_fields:\n",
    "    arcpy.management.AddField(ns_submodel, ns_field, 'DOUBLE')\n",
    "    \n",
    "#expression to get final constraints\n",
    "final_expression = '(!ori_ns_01! * !ori_ns_02!) ** (1/2)'\n",
    "\n",
    "# Calculate the geometric mean and store the result in the 'final_ns' attribute\n",
    "arcpy.CalculateField_management(ns_submodel, ns_field, final_expression, 'PYTHON3')\n"
   ]
  },
  {
   "cell_type": "code",
   "execution_count": null,
   "id": "6d790f62",
   "metadata": {},
   "outputs": [],
   "source": []
  }
 ],
 "metadata": {
  "kernelspec": {
   "display_name": "Python 3 (ipykernel)",
   "language": "python",
   "name": "python3"
  },
  "language_info": {
   "codemirror_mode": {
    "name": "ipython",
    "version": 3
   },
   "file_extension": ".py",
   "mimetype": "text/x-python",
   "name": "python",
   "nbconvert_exporter": "python",
   "pygments_lexer": "ipython3",
   "version": "3.9.18"
  }
 },
 "nbformat": 4,
 "nbformat_minor": 5
}
